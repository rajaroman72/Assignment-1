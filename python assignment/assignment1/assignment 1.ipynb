{
 "cells": [
  {
   "cell_type": "code",
   "execution_count": 4,
   "id": "933fdd22",
   "metadata": {},
   "outputs": [
    {
     "name": "stdout",
     "output_type": "stream",
     "text": [
      "Twinkle, twinkle, little star,\n",
      "\tHow I wonder what you are!\n",
      "\t\tUp above the world so high,\n",
      "\t\tLike a diamond in the sky.\n",
      "Twinkle, twinkle, little star,\n",
      "\tHow I wonder what you are\n"
     ]
    }
   ],
   "source": [
    "print(\"Twinkle, twinkle, little star,\\n\\tHow I wonder what you are!\\n\\t\\tUp above the world so high,\\n\\t\\tLike a diamond in the sky.\\nTwinkle, twinkle, little star,\\n\\tHow I wonder what you are\")"
   ]
  },
  {
   "cell_type": "code",
   "execution_count": 6,
   "id": "f66571a5",
   "metadata": {},
   "outputs": [
    {
     "name": "stdout",
     "output_type": "stream",
     "text": [
      "Python Version\n",
      "3.9.7 (default, Sep 16 2021, 16:59:28) [MSC v.1916 64 bit (AMD64)]\n"
     ]
    }
   ],
   "source": [
    "import sys\n",
    "print(\"Python Version\")\n",
    "print(sys.version)"
   ]
  },
  {
   "cell_type": "code",
   "execution_count": 8,
   "id": "b5c62515",
   "metadata": {},
   "outputs": [
    {
     "name": "stdout",
     "output_type": "stream",
     "text": [
      "current date and time;\n",
      "2022-01-01 21:18:34.715472\n"
     ]
    }
   ],
   "source": [
    "import datetime\n",
    "TodayDate= datetime.datetime.now()\n",
    "print(\"current date and time;\")\n",
    "print(TodayDate)"
   ]
  },
  {
   "cell_type": "code",
   "execution_count": 32,
   "id": "2cc1a892",
   "metadata": {},
   "outputs": [
    {
     "name": "stdout",
     "output_type": "stream",
     "text": [
      "enter radius:2\n",
      "12.566\n"
     ]
    }
   ],
   "source": [
    "pi = 3.1415\n",
    "radius = float(input(\"enter radius:\"))\n",
    "print(pi*radius*radius)"
   ]
  },
  {
   "cell_type": "code",
   "execution_count": 24,
   "id": "ead692e3",
   "metadata": {},
   "outputs": [
    {
     "name": "stdout",
     "output_type": "stream",
     "text": [
      "Enter your first name:javeria\n",
      "Enter your last name:altaf\n",
      "altafjaveria\n"
     ]
    }
   ],
   "source": [
    "FirstName= input(\"Enter your first name:\")\n",
    "LastName= input(\"Enter your last name:\")\n",
    "print(LastName + FirstName)"
   ]
  },
  {
   "cell_type": "code",
   "execution_count": 29,
   "id": "1b02c87b",
   "metadata": {},
   "outputs": [
    {
     "name": "stdout",
     "output_type": "stream",
     "text": [
      "a:12\n",
      "b:19\n",
      "1219\n"
     ]
    }
   ],
   "source": [
    "a= input(\"a:\")\n",
    "b= input(\"b:\")\n",
    "print(a+b)"
   ]
  },
  {
   "cell_type": "code",
   "execution_count": null,
   "id": "0691650a",
   "metadata": {},
   "outputs": [],
   "source": []
  },
  {
   "cell_type": "code",
   "execution_count": null,
   "id": "1429c730",
   "metadata": {},
   "outputs": [],
   "source": []
  }
 ],
 "metadata": {
  "kernelspec": {
   "display_name": "Python 3 (ipykernel)",
   "language": "python",
   "name": "python3"
  },
  "language_info": {
   "codemirror_mode": {
    "name": "ipython",
    "version": 3
   },
   "file_extension": ".py",
   "mimetype": "text/x-python",
   "name": "python",
   "nbconvert_exporter": "python",
   "pygments_lexer": "ipython3",
   "version": "3.9.7"
  }
 },
 "nbformat": 4,
 "nbformat_minor": 5
}
